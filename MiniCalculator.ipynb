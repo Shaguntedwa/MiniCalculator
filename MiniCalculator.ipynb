{
  "nbformat": 4,
  "nbformat_minor": 0,
  "metadata": {
    "colab": {
      "provenance": []
    },
    "kernelspec": {
      "name": "python3",
      "display_name": "Python 3"
    },
    "language_info": {
      "name": "python"
    }
  },
  "cells": [
    {
      "cell_type": "code",
      "execution_count": 7,
      "metadata": {
        "colab": {
          "base_uri": "https://localhost:8080/"
        },
        "id": "VFBY_QhVNMW5",
        "outputId": "0081787d-29d6-44c5-b454-3cb6f7dd0ed5"
      },
      "outputs": [
        {
          "name": "stdout",
          "output_type": "stream",
          "text": [
            "Enter operation(+,-,*,/,**,%,//) or 'exit' or 'clear':exit\n"
          ]
        }
      ],
      "source": [
        "history=[]\n",
        "while True:\n",
        "  opr=input(\"Enter operation(+,-,*,/,**,%,//) or 'exit' or 'clear':\")\n",
        "  if opr=='exit':\n",
        "    break\n",
        "  elif opr=='clear':\n",
        "    history.clear()\n",
        "    print('History Cleared!')\n",
        "    continue\n",
        "  elif opr not in ['+','-','*','/','//','**','%']:\n",
        "    print('Invalid Operator')\n",
        "    conitune\n",
        "\n",
        "  num1=float(input('Enter first number:'))\n",
        "  num2=int(input('Enter second number:'))\n",
        "  if opr=='+':\n",
        "    result=num1+num2\n",
        "  elif opr=='-':\n",
        "    result=num1-num2\n",
        "  elif opr=='*':\n",
        "    result=num1*num2\n",
        "  elif opr=='/':\n",
        "    result=num1/num2\n",
        "  elif opr=='**':\n",
        "    result= num1**num2\n",
        "  elif opr=='//':\n",
        "    result=num1//num2\n",
        "  elif opr=='%':\n",
        "    result==num1%num2\n",
        "\n",
        "  else:\n",
        "    print('Invalid Operator')\n",
        "    continue\n",
        "  record=f\"{num1} {opr} {num2} = {result}\"\n",
        "  print(record)\n",
        "  history.append(record)\n",
        "  print('\\n Calculation History:')\n",
        "  for entry in history:\n",
        "    print(entry)\n",
        "\n",
        "\n",
        "\n"
      ]
    }
  ]
}